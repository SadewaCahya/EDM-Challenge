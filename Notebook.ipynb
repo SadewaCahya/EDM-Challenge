{
 "cells": [
  {
   "cell_type": "markdown",
   "metadata": {},
   "source": [
    "## Library yang digunakan"
   ]
  },
  {
   "cell_type": "code",
   "execution_count": 1,
   "metadata": {},
   "outputs": [],
   "source": [
    "import pandas as pd\n",
    "import matplotlib.pyplot as plt\n",
    "import seaborn as sns"
   ]
  },
  {
   "cell_type": "markdown",
   "metadata": {},
   "source": [
    "## Sebelum Preprocessing \n"
   ]
  },
  {
   "cell_type": "code",
   "execution_count": 2,
   "metadata": {},
   "outputs": [
    {
     "name": "stdout",
     "output_type": "stream",
     "text": [
      "<class 'pandas.core.frame.DataFrame'>\n",
      "RangeIndex: 59 entries, 0 to 58\n",
      "Data columns (total 11 columns):\n",
      " #   Column                      Non-Null Count  Dtype  \n",
      "---  ------                      --------------  -----  \n",
      " 0   Periode                     39 non-null     float64\n",
      " 1   Unnamed: 1                  39 non-null     object \n",
      " 2   Tidak/belum pernah sekolah  59 non-null     object \n",
      " 3   Tidak/belum tamat SD        58 non-null     float64\n",
      " 4   SD                          58 non-null     float64\n",
      " 5   SLTP                        58 non-null     float64\n",
      " 6   SLTA Umum/SMU               58 non-null     float64\n",
      " 7   SLTA Kejuruan/SMK           58 non-null     float64\n",
      " 8   Akademi/Diploma             58 non-null     float64\n",
      " 9   Universitas                 58 non-null     float64\n",
      " 10  Total                       58 non-null     float64\n",
      "dtypes: float64(9), object(2)\n",
      "memory usage: 5.2+ KB\n"
     ]
    }
   ],
   "source": [
    "datas_df = pd.read_csv(\"D:\\EDM Challenge\\data_pendidikan.csv\")\n",
    "datas_df.info()"
   ]
  },
  {
   "cell_type": "markdown",
   "metadata": {},
   "source": [
    "## Sesudah Preprocessing"
   ]
  },
  {
   "cell_type": "code",
   "execution_count": 3,
   "metadata": {},
   "outputs": [
    {
     "name": "stdout",
     "output_type": "stream",
     "text": [
      "<class 'pandas.core.frame.DataFrame'>\n",
      "RangeIndex: 8 entries, 0 to 7\n",
      "Data columns (total 5 columns):\n",
      " #   Column              Non-Null Count  Dtype \n",
      "---  ------              --------------  ----- \n",
      " 0   tingkat pendidikan  8 non-null      object\n",
      " 1   2020                8 non-null      int64 \n",
      " 2   2021                8 non-null      int64 \n",
      " 3   2022                8 non-null      int64 \n",
      " 4   2023                8 non-null      int64 \n",
      "dtypes: int64(4), object(1)\n",
      "memory usage: 448.0+ bytes\n"
     ]
    }
   ],
   "source": [
    "data_df = pd.read_csv(\"D:\\EDM Challenge\\data_pendidikan_newss.csv\")\n",
    "data_df.info()"
   ]
  },
  {
   "cell_type": "markdown",
   "metadata": {},
   "source": [
    "## Data Wrangling\n",
    "\n",
    "### Gathering Data"
   ]
  },
  {
   "cell_type": "code",
   "execution_count": 4,
   "metadata": {},
   "outputs": [
    {
     "data": {
      "text/html": [
       "<div>\n",
       "<style scoped>\n",
       "    .dataframe tbody tr th:only-of-type {\n",
       "        vertical-align: middle;\n",
       "    }\n",
       "\n",
       "    .dataframe tbody tr th {\n",
       "        vertical-align: top;\n",
       "    }\n",
       "\n",
       "    .dataframe thead th {\n",
       "        text-align: right;\n",
       "    }\n",
       "</style>\n",
       "<table border=\"1\" class=\"dataframe\">\n",
       "  <thead>\n",
       "    <tr style=\"text-align: right;\">\n",
       "      <th></th>\n",
       "      <th>tingkat pendidikan</th>\n",
       "      <th>2020</th>\n",
       "      <th>2021</th>\n",
       "      <th>2022</th>\n",
       "      <th>2023</th>\n",
       "    </tr>\n",
       "  </thead>\n",
       "  <tbody>\n",
       "    <tr>\n",
       "      <th>0</th>\n",
       "      <td>Tidak/belum pernah sekolah</td>\n",
       "      <td>67140</td>\n",
       "      <td>44366</td>\n",
       "      <td>40058</td>\n",
       "      <td>71584</td>\n",
       "    </tr>\n",
       "    <tr>\n",
       "      <th>1</th>\n",
       "      <td>Tidak/belum tamat SD</td>\n",
       "      <td>775591</td>\n",
       "      <td>774063</td>\n",
       "      <td>1100944</td>\n",
       "      <td>799186</td>\n",
       "    </tr>\n",
       "    <tr>\n",
       "      <th>2</th>\n",
       "      <td>SD</td>\n",
       "      <td>2417281</td>\n",
       "      <td>2612986</td>\n",
       "      <td>2505067</td>\n",
       "      <td>2198594</td>\n",
       "    </tr>\n",
       "    <tr>\n",
       "      <th>3</th>\n",
       "      <td>SLTP</td>\n",
       "      <td>2872870</td>\n",
       "      <td>3119537</td>\n",
       "      <td>2961028</td>\n",
       "      <td>2692633</td>\n",
       "    </tr>\n",
       "    <tr>\n",
       "      <th>4</th>\n",
       "      <td>SLTA Umum/SMU</td>\n",
       "      <td>4411278</td>\n",
       "      <td>4777952</td>\n",
       "      <td>4729731</td>\n",
       "      <td>4730482</td>\n",
       "    </tr>\n",
       "  </tbody>\n",
       "</table>\n",
       "</div>"
      ],
      "text/plain": [
       "           tingkat pendidikan     2020     2021     2022     2023\n",
       "0  Tidak/belum pernah sekolah    67140    44366    40058    71584\n",
       "1        Tidak/belum tamat SD   775591   774063  1100944   799186\n",
       "2                          SD  2417281  2612986  2505067  2198594\n",
       "3                        SLTP  2872870  3119537  2961028  2692633\n",
       "4               SLTA Umum/SMU  4411278  4777952  4729731  4730482"
      ]
     },
     "execution_count": 4,
     "metadata": {},
     "output_type": "execute_result"
    }
   ],
   "source": [
    "data_df = pd.read_csv(\"D:\\EDM Challenge\\data_pendidikan_newss.csv\")\n",
    "data_df.head()"
   ]
  },
  {
   "cell_type": "markdown",
   "metadata": {},
   "source": [
    "### Assessing Data\n",
    "\n",
    "#### Menilai Tabel data_df"
   ]
  },
  {
   "cell_type": "code",
   "execution_count": 5,
   "metadata": {},
   "outputs": [
    {
     "name": "stdout",
     "output_type": "stream",
     "text": [
      "<class 'pandas.core.frame.DataFrame'>\n",
      "RangeIndex: 8 entries, 0 to 7\n",
      "Data columns (total 5 columns):\n",
      " #   Column              Non-Null Count  Dtype \n",
      "---  ------              --------------  ----- \n",
      " 0   tingkat pendidikan  8 non-null      object\n",
      " 1   2020                8 non-null      int64 \n",
      " 2   2021                8 non-null      int64 \n",
      " 3   2022                8 non-null      int64 \n",
      " 4   2023                8 non-null      int64 \n",
      "dtypes: int64(4), object(1)\n",
      "memory usage: 448.0+ bytes\n"
     ]
    }
   ],
   "source": [
    "data_df.info()"
   ]
  },
  {
   "cell_type": "code",
   "execution_count": 6,
   "metadata": {},
   "outputs": [
    {
     "data": {
      "text/plain": [
       "tingkat pendidikan    0\n",
       "2020                  0\n",
       "2021                  0\n",
       "2022                  0\n",
       "2023                  0\n",
       "dtype: int64"
      ]
     },
     "execution_count": 6,
     "metadata": {},
     "output_type": "execute_result"
    }
   ],
   "source": [
    "data_df.isnull().sum()"
   ]
  },
  {
   "cell_type": "code",
   "execution_count": 7,
   "metadata": {},
   "outputs": [
    {
     "data": {
      "text/html": [
       "<div>\n",
       "<style scoped>\n",
       "    .dataframe tbody tr th:only-of-type {\n",
       "        vertical-align: middle;\n",
       "    }\n",
       "\n",
       "    .dataframe tbody tr th {\n",
       "        vertical-align: top;\n",
       "    }\n",
       "\n",
       "    .dataframe thead th {\n",
       "        text-align: right;\n",
       "    }\n",
       "</style>\n",
       "<table border=\"1\" class=\"dataframe\">\n",
       "  <thead>\n",
       "    <tr style=\"text-align: right;\">\n",
       "      <th></th>\n",
       "      <th>2020</th>\n",
       "      <th>2021</th>\n",
       "      <th>2022</th>\n",
       "      <th>2023</th>\n",
       "    </tr>\n",
       "  </thead>\n",
       "  <tbody>\n",
       "    <tr>\n",
       "      <th>count</th>\n",
       "      <td>8.000000e+00</td>\n",
       "      <td>8.000000e+00</td>\n",
       "      <td>8.000000e+00</td>\n",
       "      <td>8.000000e+00</td>\n",
       "    </tr>\n",
       "    <tr>\n",
       "      <th>mean</th>\n",
       "      <td>2.086655e+06</td>\n",
       "      <td>2.231008e+06</td>\n",
       "      <td>2.085568e+06</td>\n",
       "      <td>1.980544e+06</td>\n",
       "    </tr>\n",
       "    <tr>\n",
       "      <th>std</th>\n",
       "      <td>1.564473e+06</td>\n",
       "      <td>1.750559e+06</td>\n",
       "      <td>1.640565e+06</td>\n",
       "      <td>1.608591e+06</td>\n",
       "    </tr>\n",
       "    <tr>\n",
       "      <th>min</th>\n",
       "      <td>6.714000e+04</td>\n",
       "      <td>4.436600e+04</td>\n",
       "      <td>4.005800e+04</td>\n",
       "      <td>7.158400e+04</td>\n",
       "    </tr>\n",
       "    <tr>\n",
       "      <th>25%</th>\n",
       "      <td>7.249042e+05</td>\n",
       "      <td>6.981675e+05</td>\n",
       "      <td>8.885350e+05</td>\n",
       "      <td>6.902840e+05</td>\n",
       "    </tr>\n",
       "    <tr>\n",
       "      <th>50%</th>\n",
       "      <td>2.111698e+06</td>\n",
       "      <td>2.230593e+06</td>\n",
       "      <td>2.031660e+06</td>\n",
       "      <td>1.870150e+06</td>\n",
       "    </tr>\n",
       "    <tr>\n",
       "      <th>75%</th>\n",
       "      <td>3.097183e+06</td>\n",
       "      <td>3.389772e+06</td>\n",
       "      <td>3.105309e+06</td>\n",
       "      <td>2.881122e+06</td>\n",
       "    </tr>\n",
       "    <tr>\n",
       "      <th>max</th>\n",
       "      <td>4.411278e+06</td>\n",
       "      <td>4.777952e+06</td>\n",
       "      <td>4.729731e+06</td>\n",
       "      <td>4.730482e+06</td>\n",
       "    </tr>\n",
       "  </tbody>\n",
       "</table>\n",
       "</div>"
      ],
      "text/plain": [
       "               2020          2021          2022          2023\n",
       "count  8.000000e+00  8.000000e+00  8.000000e+00  8.000000e+00\n",
       "mean   2.086655e+06  2.231008e+06  2.085568e+06  1.980544e+06\n",
       "std    1.564473e+06  1.750559e+06  1.640565e+06  1.608591e+06\n",
       "min    6.714000e+04  4.436600e+04  4.005800e+04  7.158400e+04\n",
       "25%    7.249042e+05  6.981675e+05  8.885350e+05  6.902840e+05\n",
       "50%    2.111698e+06  2.230593e+06  2.031660e+06  1.870150e+06\n",
       "75%    3.097183e+06  3.389772e+06  3.105309e+06  2.881122e+06\n",
       "max    4.411278e+06  4.777952e+06  4.729731e+06  4.730482e+06"
      ]
     },
     "execution_count": 7,
     "metadata": {},
     "output_type": "execute_result"
    }
   ],
   "source": [
    "data_df.describe()"
   ]
  },
  {
   "cell_type": "markdown",
   "metadata": {},
   "source": [
    "## Exploratory Data Analysis (EDA)\n",
    "\n",
    "### Explore data_df"
   ]
  },
  {
   "cell_type": "code",
   "execution_count": 8,
   "metadata": {},
   "outputs": [
    {
     "data": {
      "text/html": [
       "<div>\n",
       "<style scoped>\n",
       "    .dataframe tbody tr th:only-of-type {\n",
       "        vertical-align: middle;\n",
       "    }\n",
       "\n",
       "    .dataframe tbody tr th {\n",
       "        vertical-align: top;\n",
       "    }\n",
       "\n",
       "    .dataframe thead th {\n",
       "        text-align: right;\n",
       "    }\n",
       "</style>\n",
       "<table border=\"1\" class=\"dataframe\">\n",
       "  <thead>\n",
       "    <tr style=\"text-align: right;\">\n",
       "      <th></th>\n",
       "      <th>2020</th>\n",
       "      <th>2021</th>\n",
       "      <th>2022</th>\n",
       "      <th>2023</th>\n",
       "    </tr>\n",
       "  </thead>\n",
       "  <tbody>\n",
       "    <tr>\n",
       "      <th>count</th>\n",
       "      <td>8.000000e+00</td>\n",
       "      <td>8.000000e+00</td>\n",
       "      <td>8.000000e+00</td>\n",
       "      <td>8.000000e+00</td>\n",
       "    </tr>\n",
       "    <tr>\n",
       "      <th>mean</th>\n",
       "      <td>2.086655e+06</td>\n",
       "      <td>2.231008e+06</td>\n",
       "      <td>2.085568e+06</td>\n",
       "      <td>1.980544e+06</td>\n",
       "    </tr>\n",
       "    <tr>\n",
       "      <th>std</th>\n",
       "      <td>1.564473e+06</td>\n",
       "      <td>1.750559e+06</td>\n",
       "      <td>1.640565e+06</td>\n",
       "      <td>1.608591e+06</td>\n",
       "    </tr>\n",
       "    <tr>\n",
       "      <th>min</th>\n",
       "      <td>6.714000e+04</td>\n",
       "      <td>4.436600e+04</td>\n",
       "      <td>4.005800e+04</td>\n",
       "      <td>7.158400e+04</td>\n",
       "    </tr>\n",
       "    <tr>\n",
       "      <th>25%</th>\n",
       "      <td>7.249042e+05</td>\n",
       "      <td>6.981675e+05</td>\n",
       "      <td>8.885350e+05</td>\n",
       "      <td>6.902840e+05</td>\n",
       "    </tr>\n",
       "    <tr>\n",
       "      <th>50%</th>\n",
       "      <td>2.111698e+06</td>\n",
       "      <td>2.230593e+06</td>\n",
       "      <td>2.031660e+06</td>\n",
       "      <td>1.870150e+06</td>\n",
       "    </tr>\n",
       "    <tr>\n",
       "      <th>75%</th>\n",
       "      <td>3.097183e+06</td>\n",
       "      <td>3.389772e+06</td>\n",
       "      <td>3.105309e+06</td>\n",
       "      <td>2.881122e+06</td>\n",
       "    </tr>\n",
       "    <tr>\n",
       "      <th>max</th>\n",
       "      <td>4.411278e+06</td>\n",
       "      <td>4.777952e+06</td>\n",
       "      <td>4.729731e+06</td>\n",
       "      <td>4.730482e+06</td>\n",
       "    </tr>\n",
       "  </tbody>\n",
       "</table>\n",
       "</div>"
      ],
      "text/plain": [
       "               2020          2021          2022          2023\n",
       "count  8.000000e+00  8.000000e+00  8.000000e+00  8.000000e+00\n",
       "mean   2.086655e+06  2.231008e+06  2.085568e+06  1.980544e+06\n",
       "std    1.564473e+06  1.750559e+06  1.640565e+06  1.608591e+06\n",
       "min    6.714000e+04  4.436600e+04  4.005800e+04  7.158400e+04\n",
       "25%    7.249042e+05  6.981675e+05  8.885350e+05  6.902840e+05\n",
       "50%    2.111698e+06  2.230593e+06  2.031660e+06  1.870150e+06\n",
       "75%    3.097183e+06  3.389772e+06  3.105309e+06  2.881122e+06\n",
       "max    4.411278e+06  4.777952e+06  4.729731e+06  4.730482e+06"
      ]
     },
     "execution_count": 8,
     "metadata": {},
     "output_type": "execute_result"
    }
   ],
   "source": [
    "data_df.describe()"
   ]
  },
  {
   "cell_type": "code",
   "execution_count": 13,
   "metadata": {},
   "outputs": [
    {
     "data": {
      "text/html": [
       "<div>\n",
       "<style scoped>\n",
       "    .dataframe tbody tr th:only-of-type {\n",
       "        vertical-align: middle;\n",
       "    }\n",
       "\n",
       "    .dataframe tbody tr th {\n",
       "        vertical-align: top;\n",
       "    }\n",
       "\n",
       "    .dataframe thead th {\n",
       "        text-align: right;\n",
       "    }\n",
       "</style>\n",
       "<table border=\"1\" class=\"dataframe\">\n",
       "  <thead>\n",
       "    <tr style=\"text-align: right;\">\n",
       "      <th></th>\n",
       "      <th>2021</th>\n",
       "    </tr>\n",
       "    <tr>\n",
       "      <th>tingkat pendidikan</th>\n",
       "      <th></th>\n",
       "    </tr>\n",
       "  </thead>\n",
       "  <tbody>\n",
       "    <tr>\n",
       "      <th>Akademi/Diploma</th>\n",
       "      <td>470481</td>\n",
       "    </tr>\n",
       "    <tr>\n",
       "      <th>SD</th>\n",
       "      <td>2612986</td>\n",
       "    </tr>\n",
       "    <tr>\n",
       "      <th>SLTA Kejuruan/SMK</th>\n",
       "      <td>4200475</td>\n",
       "    </tr>\n",
       "    <tr>\n",
       "      <th>SLTA Umum/SMU</th>\n",
       "      <td>4777952</td>\n",
       "    </tr>\n",
       "    <tr>\n",
       "      <th>SLTP</th>\n",
       "      <td>3119537</td>\n",
       "    </tr>\n",
       "    <tr>\n",
       "      <th>Tidak/belum pernah sekolah</th>\n",
       "      <td>44366</td>\n",
       "    </tr>\n",
       "    <tr>\n",
       "      <th>Tidak/belum tamat SD</th>\n",
       "      <td>774063</td>\n",
       "    </tr>\n",
       "    <tr>\n",
       "      <th>Universitas</th>\n",
       "      <td>1848200</td>\n",
       "    </tr>\n",
       "  </tbody>\n",
       "</table>\n",
       "</div>"
      ],
      "text/plain": [
       "                               2021\n",
       "tingkat pendidikan                 \n",
       "Akademi/Diploma              470481\n",
       "SD                          2612986\n",
       "SLTA Kejuruan/SMK           4200475\n",
       "SLTA Umum/SMU               4777952\n",
       "SLTP                        3119537\n",
       "Tidak/belum pernah sekolah    44366\n",
       "Tidak/belum tamat SD         774063\n",
       "Universitas                 1848200"
      ]
     },
     "execution_count": 13,
     "metadata": {},
     "output_type": "execute_result"
    }
   ],
   "source": [
    "data_df.groupby(by=\"tingkat pendidikan\").agg({\n",
    "    \"2021\" : \"max\"\n",
    "})"
   ]
  },
  {
   "cell_type": "code",
   "execution_count": 19,
   "metadata": {},
   "outputs": [
    {
     "data": {
      "text/plain": [
       "2020    16693240\n",
       "2021    17848060\n",
       "2022    16684543\n",
       "2023    15844350\n",
       "dtype: int64"
      ]
     },
     "execution_count": 19,
     "metadata": {},
     "output_type": "execute_result"
    }
   ],
   "source": [
    "total = data_df[['2020', '2021', '2022', '2023']].sum()\n"
   ]
  },
  {
   "cell_type": "markdown",
   "metadata": {},
   "source": [
    "## Visualization & Explanatory Analysis"
   ]
  },
  {
   "cell_type": "markdown",
   "metadata": {},
   "source": [
    "### Bagaimana tren tingkat pengangguran di indonesia selama 4 tahun terakhir?"
   ]
  },
  {
   "cell_type": "code",
   "execution_count": 21,
   "metadata": {},
   "outputs": [
    {
     "data": {
      "image/png": "[encoded data removed]",
      "text/plain": [
       "<Figure size 1000x500 with 1 Axes>"
      ]
     },
     "metadata": {},
     "output_type": "display_data"
    }
   ],
   "source": [
    "total = data_df[['2020', '2021', '2022', '2023']].sum()\n",
    "periode = ['2020', '2021', '2022', '2023']\n",
    "\n",
    "plt.figure(figsize=(10, 5))\n",
    "plt.plot(\n",
    "    periode,\n",
    "    total,\n",
    "    marker='o'\n",
    ")\n",
    "plt.title(\"Tingkat Pengangguran\", loc=\"center\", fontsize=15)\n",
    "plt.xticks(fontsize=10)\n",
    "plt.yticks(fontsize=10)\n",
    "plt.show()"
   ]
  },
  {
   "cell_type": "markdown",
   "metadata": {},
   "source": [
    "### Di tingkat pendidikan apa yang tingkat penganggurannya paling tinggi menurut tahun 2023?"
   ]
  },
  {
   "cell_type": "code",
   "execution_count": 25,
   "metadata": {},
   "outputs": [
    {
     "data": {
      "image/png": "[encoded data removed]",
      "text/plain": [
       "<Figure size 1000x500 with 1 Axes>"
      ]
     },
     "metadata": {},
     "output_type": "display_data"
    }
   ],
   "source": [
    "plt.figure(figsize=(10, 5))\n",
    "ax = sns.barplot(\n",
    "    x=data_df[\"2023\"], \n",
    "    y=data_df[\"tingkat pendidikan\"]\n",
    ")\n",
    "for container in ax.containers:\n",
    "    ax.bar_label(container, fmt='%d', padding=3, fontsize=8)\n",
    "\n",
    "plt.title(\"Tingkat Pengangguran berdasarkan tingkat pendidikan\", loc=\"center\", fontsize=15)\n",
    "plt.xticks(fontsize=8)\n",
    "plt.yticks(fontsize=8)\n",
    "plt.show()"
   ]
  }
 ],
 "metadata": {
  "kernelspec": {
   "display_name": "Python 3",
   "language": "python",
   "name": "python3"
  },
  "language_info": {
   "codemirror_mode": {
    "name": "ipython",
    "version": 3
   },
   "file_extension": ".py",
   "mimetype": "text/x-python",
   "name": "python",
   "nbconvert_exporter": "python",
   "pygments_lexer": "ipython3",
   "version": "3.10.7"
  }
 },
 "nbformat": 4,
 "nbformat_minor": 2
}
